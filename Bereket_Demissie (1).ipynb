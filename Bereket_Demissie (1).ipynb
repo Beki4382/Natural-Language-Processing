{
  "nbformat": 4,
  "nbformat_minor": 0,
  "metadata": {
    "colab": {
      "provenance": []
    },
    "kernelspec": {
      "name": "python3",
      "display_name": "Python 3"
    },
    "language_info": {
      "name": "python"
    }
  },
  "cells": [
    {
      "cell_type": "markdown",
      "source": [
        "#Bereket Demissie\n",
        "#UGR/0587/12\n",
        "#software section 1"
      ],
      "metadata": {
        "id": "-7E8GJItoT0Y"
      }
    },
    {
      "cell_type": "code",
      "execution_count": 59,
      "metadata": {
        "id": "nDaaDKlBc1uN"
      },
      "outputs": [],
      "source": [
        "file_path = '/content/GPAC.txt'\n",
        "\n",
        "# Import necessary libraries\n",
        "from collections import Counter, defaultdict\n",
        "import random\n",
        "\n",
        "with open(file_path, \"r\", encoding=\"utf-8\", errors=\"replace\") as file:\n",
        "    # Read the contents of the file and split into a list of words\n",
        "    data = file.read().split()\n",
        "\n",
        "    # Limit the data to the first 1,000,000 words\n",
        "    data = data[:1000000]\n",
        "\n",
        "# The 'data' variable now contains a list of words from the file\n"
      ]
    },
    {
      "cell_type": "markdown",
      "source": [
        "1.1 Create n-grams for n=1, 2, 3, 4. You can show sample prints."
      ],
      "metadata": {
        "id": "ioiJhUiz0LO1"
      }
    },
    {
      "cell_type": "code",
      "source": [
        "# Define a function to generate n-grams from a given list of words\n",
        "def ngramsGenerator(data, n):\n",
        "    ngrams = []\n",
        "    for i in range(len(data) - n + 1):\n",
        "        # Join the current n words to form an n-gram\n",
        "        ngram = \" \".join(data[i:i + n])\n",
        "        # Add the n-gram to the list\n",
        "        ngrams.append(ngram)\n",
        "\n",
        "    return ngrams\n",
        "\n",
        "# Generate unigrams (1-grams) from the data and calculate their frequencies\n",
        "Unigram = ngramsGenerator(data, 1)\n",
        "uni_freq = Counter(Unigram)\n",
        "\n",
        "# Generate bigrams (2-grams) from the data and calculate their frequencies\n",
        "BiGram = ngramsGenerator(data, 2)\n",
        "bi_freq = Counter(BiGram)\n",
        "\n",
        "# Generate trigrams (3-grams) from the data and calculate their frequencies\n",
        "TriGram = ngramsGenerator(data, 3)\n",
        "tri_freq = Counter(TriGram)\n",
        "\n",
        "# Generate quadrigrams (4-grams) from the data and calculate their frequencies\n",
        "Quadrigram = ngramsGenerator(data, 4)\n",
        "quadri_freq = Counter(Quadrigram)\n",
        "\n",
        "# Print the first 5 unigrams\n",
        "print(\"--------------unigrams-----------------------\")\n",
        "for i in range(5):\n",
        "    print(Unigram[i])\n",
        "\n",
        "# Print the first 5 bigrams\n",
        "print(\"--------------bigrams-----------------------\")\n",
        "for i in range(5):\n",
        "    print(BiGram[i])\n",
        "\n",
        "# Print the first 5 trigrams\n",
        "print(\"--------------Trigrams-----------------------\")\n",
        "for i in range(5):\n",
        "    print(TriGram[i])\n",
        "\n",
        "# Print the first 5 quadrigrams\n",
        "print(\"--------------quadrigrams-----------------------\")\n",
        "for i in range(5):\n",
        "    print(Quadrigram[i])\n"
      ],
      "metadata": {
        "colab": {
          "base_uri": "https://localhost:8080/"
        },
        "id": "ewGUcDP4UOu4",
        "outputId": "43b2b75e-8995-44c3-f85a-04896b6f9d41"
      },
      "execution_count": 60,
      "outputs": [
        {
          "output_type": "stream",
          "name": "stdout",
          "text": [
            "--------------unigrams-----------------------\n",
            "ምን\n",
            "መሰላችሁ?\n",
            "(አንባቢያን)\n",
            "ኢትዮጵያ\n",
            "በተደጋጋሚ\n",
            "--------------bigrams-----------------------\n",
            "ምን መሰላችሁ?\n",
            "መሰላችሁ? (አንባቢያን)\n",
            "(አንባቢያን) ኢትዮጵያ\n",
            "ኢትዮጵያ በተደጋጋሚ\n",
            "በተደጋጋሚ ጥሪው\n",
            "--------------Trigrams-----------------------\n",
            "ምን መሰላችሁ? (አንባቢያን)\n",
            "መሰላችሁ? (አንባቢያን) ኢትዮጵያ\n",
            "(አንባቢያን) ኢትዮጵያ በተደጋጋሚ\n",
            "ኢትዮጵያ በተደጋጋሚ ጥሪው\n",
            "በተደጋጋሚ ጥሪው ደርሷት\n",
            "--------------quadrigrams-----------------------\n",
            "ምን መሰላችሁ? (አንባቢያን) ኢትዮጵያ\n",
            "መሰላችሁ? (አንባቢያን) ኢትዮጵያ በተደጋጋሚ\n",
            "(አንባቢያን) ኢትዮጵያ በተደጋጋሚ ጥሪው\n",
            "ኢትዮጵያ በተደጋጋሚ ጥሪው ደርሷት\n",
            "በተደጋጋሚ ጥሪው ደርሷት ልትታደመው\n"
          ]
        }
      ]
    },
    {
      "cell_type": "markdown",
      "source": [
        "1.2 Calculate probabilities of n-grams and find the top 10 most likely n-grams for all n."
      ],
      "metadata": {
        "id": "Ttc26RYJ0Qkx"
      }
    },
    {
      "cell_type": "code",
      "source": [
        "# Define a function to get the top n-grams based on their probabilities\n",
        "def top_ngrams(prob):\n",
        "    ngrams = sorted(prob.items(), key=lambda x: x[1], reverse=True)\n",
        "    return ngrams[:10]\n",
        "\n",
        "# Calculate the total number of unigrams\n",
        "entire_unigrams = len(Unigram)\n",
        "\n",
        "# Calculate the probabilities for each n-grams and Get the top 10 n-grams based on their probabilities\n",
        "unigram_prob = {unigram: count / entire_unigrams for unigram, count in uni_freq.items()}\n",
        "top_10_unigrams = top_ngrams(unigram_prob)\n",
        "\n",
        "bigram_prob = {bigram: count / uni_freq[\" \".join(bigram.split(\" \")[:-1])] for bigram, count in bi_freq.items()}\n",
        "top_10_bigrams = top_ngrams(bigram_prob)\n",
        "\n",
        "trigram_prob = {trigram: count / bi_freq[\" \".join(trigram.split(\" \")[:-1])] for trigram, count in tri_freq.items()}\n",
        "top_10_trigrams = top_ngrams(trigram_prob)\n",
        "\n",
        "quadrigram_prob = {quadrigram: count / tri_freq[\" \".join(quadrigram.split(\" \")[:-1])] for quadrigram, count in quadri_freq.items()}\n",
        "top_10_quadrigrams = top_ngrams(quadrigram_prob)\n",
        "\n",
        "# Print the top 10 n-grams\n",
        "print(\"--------------Top 10 unigrams-----------------------\")\n",
        "for unigram, prob in top_10_unigrams:\n",
        "    print(unigram, \":  \", prob)\n",
        "\n",
        "print(\"-------------Top 10 bigrams-------------------------\")\n",
        "for bigram, prob in top_10_bigrams:\n",
        "    print(bigram, \":  \", prob)\n",
        "\n",
        "print(\"-------------Top 10 trigrams------------------------\")\n",
        "for trigram, prob in top_10_trigrams:\n",
        "    print(trigram, \":  \", prob)\n",
        "\n",
        "print(\"------------Top 10 quadrigrams----------------------\")\n",
        "for quadrigram, prob in top_10_quadrigrams:\n",
        "    print(quadrigram, \":  \", prob)\n"
      ],
      "metadata": {
        "colab": {
          "base_uri": "https://localhost:8080/"
        },
        "id": "jTH3bWmLUtsV",
        "outputId": "35830351-4938-4e51-e2eb-8f9e44b44fd3"
      },
      "execution_count": 61,
      "outputs": [
        {
          "output_type": "stream",
          "name": "stdout",
          "text": [
            "--------------Top 10 unigrams-----------------------\n",
            "ላይ :   0.008569\n",
            "ነው፡፡ :   0.007978\n",
            "ነው :   0.006405\n",
            "ወደ :   0.004659\n",
            "ግን :   0.004615\n",
            "ውስጥ :   0.00434\n",
            "እና :   0.00424\n",
            "ጋር :   0.003727\n",
            "ነገር :   0.003549\n",
            "አንድ :   0.003188\n",
            "-------------Top 10 bigrams-------------------------\n",
            "ደርሷት ልትታደመው :   1.0\n",
            "ልትታደመው ያልቻለችው :   1.0\n",
            "ለ19ኛ ጊዜ :   1.0\n",
            "ባረረ ልክ :   1.0\n",
            "ልትታደም ሁለት :   1.0\n",
            "ላከች፡፡6ኛው ቢግ :   1.0\n",
            "በፈታኝ ሁኔታ :   1.0\n",
            "የሚገጥሟቸውን የተለያዩ :   1.0\n",
            "በትእግስትና በጥበብ :   1.0\n",
            "ለ91 ቀናት :   1.0\n",
            "-------------Top 10 trigrams------------------------\n",
            "መሰላችሁ? (አንባቢያን) ኢትዮጵያ :   1.0\n",
            "(አንባቢያን) ኢትዮጵያ በተደጋጋሚ :   1.0\n",
            "ኢትዮጵያ በተደጋጋሚ ጥሪው :   1.0\n",
            "በተደጋጋሚ ጥሪው ደርሷት :   1.0\n",
            "ጥሪው ደርሷት ልትታደመው :   1.0\n",
            "ደርሷት ልትታደመው ያልቻለችው :   1.0\n",
            "ልትታደመው ያልቻለችው የአለም :   1.0\n",
            "ያልቻለችው የአለም የእግር :   1.0\n",
            "የአለም የእግር ኳስ :   1.0\n",
            "ኳስ ዋ ለ19ኛ :   1.0\n",
            "------------Top 10 quadrigrams----------------------\n",
            "ምን መሰላችሁ? (አንባቢያን) ኢትዮጵያ :   1.0\n",
            "መሰላችሁ? (አንባቢያን) ኢትዮጵያ በተደጋጋሚ :   1.0\n",
            "(አንባቢያን) ኢትዮጵያ በተደጋጋሚ ጥሪው :   1.0\n",
            "ኢትዮጵያ በተደጋጋሚ ጥሪው ደርሷት :   1.0\n",
            "በተደጋጋሚ ጥሪው ደርሷት ልትታደመው :   1.0\n",
            "ጥሪው ደርሷት ልትታደመው ያልቻለችው :   1.0\n",
            "ደርሷት ልትታደመው ያልቻለችው የአለም :   1.0\n",
            "ልትታደመው ያልቻለችው የአለም የእግር :   1.0\n",
            "ያልቻለችው የአለም የእግር ኳስ :   1.0\n",
            "የአለም የእግር ኳስ ዋ :   1.0\n"
          ]
        }
      ]
    },
    {
      "cell_type": "markdown",
      "source": [
        "1.3 What is the probability of the sentence. \"ኢትዮጵያ ታሪካዊ ሀገር ናት \".  "
      ],
      "metadata": {
        "id": "Xhp_LIyR0Vrb"
      }
    },
    {
      "cell_type": "code",
      "source": [
        "sentence = \"ኢትዮጵያ ታሪካዊ ሀገር ናት\"\n",
        "\n",
        "# Split the sentence into a list of words\n",
        "sentence = sentence.split(\" \")\n",
        "\n",
        "# Initialize the probability for quadrigram estimation\n",
        "quadri_prob = 1\n",
        "\n",
        "# Set the window size for quadrigram estimation\n",
        "left = 0\n",
        "right = 4\n",
        "\n",
        "# Iterate over the sentence with a sliding window to calculate quadrigram probability\n",
        "while right <= len(sentence):\n",
        "    # Multiply the quadrigram probability by the probability of the current quadrigram\n",
        "    quadri_prob *= quadrigram_prob.get(\" \".join(sentence[left:right]), 0)\n",
        "\n",
        "    # Move the window to the next position\n",
        "    right += 1\n",
        "    left += 1\n",
        "\n",
        "print(\"the quadrigram estimation is: \", quadri_prob)\n"
      ],
      "metadata": {
        "colab": {
          "base_uri": "https://localhost:8080/"
        },
        "id": "69m90YNvgrfI",
        "outputId": "f5cc2657-f6c2-42af-890b-d3c8c0cd2458"
      },
      "execution_count": 62,
      "outputs": [
        {
          "output_type": "stream",
          "name": "stdout",
          "text": [
            "the quadrigram estimation is:  0\n"
          ]
        }
      ]
    },
    {
      "cell_type": "markdown",
      "source": [
        "with other sentence."
      ],
      "metadata": {
        "id": "wiVp0hu90eGq"
      }
    },
    {
      "cell_type": "code",
      "source": [
        "sentence = \"ጥሪው ደርሷት ልትታደመው ያልቻለችው የአለም የእግር \"\n",
        "\n",
        "# Split the sentence into a list of words\n",
        "sentence = sentence.split(\" \")\n",
        "\n",
        "# Initialize the probability for quadrigram estimation\n",
        "quadri_prob = 1\n",
        "\n",
        "# Set the window size for quadrigram estimation\n",
        "left = 0\n",
        "right = 4\n",
        "\n",
        "# Iterate over the sentence with a sliding window to calculate quadrigram probability\n",
        "while right <= len(sentence):\n",
        "    # Multiply the quadrigram probability by the probability of the current quadrigram\n",
        "    quadri_prob *= quadrigram_prob.get(\" \".join(sentence[left:right]), 0)\n",
        "\n",
        "    # Move the window to the next position\n",
        "    right += 1\n",
        "    left += 1\n",
        "\n",
        "print(\"the quadrigram estimation is: \", quadri_prob)\n"
      ],
      "metadata": {
        "colab": {
          "base_uri": "https://localhost:8080/"
        },
        "id": "O6LMPtxIVdoi",
        "outputId": "558e29f9-ac65-403b-d6c6-d19b2e7f35ab"
      },
      "execution_count": 63,
      "outputs": [
        {
          "output_type": "stream",
          "name": "stdout",
          "text": [
            "the quadrigram estimation is:  0.0\n"
          ]
        }
      ]
    },
    {
      "cell_type": "markdown",
      "source": [
        "\n",
        "1.4 Generate random sentences using n-grams; explain what happens as n increases, based on your output."
      ],
      "metadata": {
        "id": "-1-xz-FX0jYr"
      }
    },
    {
      "cell_type": "code",
      "source": [
        "def random_corpus(n, ngram_prob, ngrams_freq):\n",
        "    sentences = []\n",
        "\n",
        "    for i in range(n):\n",
        "        # If it's the first sentence, choose a random n-gram as the starting point\n",
        "        if not sentences:\n",
        "            selected = random.choice(list(ngram_prob.keys()))\n",
        "            sentences.append(selected)\n",
        "        else:\n",
        "            possible_next_words = []\n",
        "\n",
        "            # Find all possible next n-grams based on the last n-gram in the sentence\n",
        "            for ngram in ngram_prob:\n",
        "                if \" \".join(ngram.split(\" \")[:-1]) == \" \".join(selected.split(\" \")[1:]):\n",
        "                    possible_next_words.append(ngram)\n",
        "\n",
        "            # If there are no possible next n-grams, break the loop\n",
        "            if not possible_next_words:\n",
        "                break\n",
        "\n",
        "            # Choose a random next n-gram from the list of possibilities\n",
        "            selected = random.choice(possible_next_words)\n",
        "\n",
        "            # Append the last word of the chosen n-gram to the sentence\n",
        "            sentences.append(selected.split(\" \")[-1])\n",
        "\n",
        "    # Combine the list of words into a single sentence\n",
        "    return \" \".join(sentences)\n",
        "\n",
        "# Print random corpora for unigrams, bigrams, trigrams, and quadrigrams\n",
        "print(random_corpus(10, unigram_prob, uni_freq))\n",
        "print(random_corpus(10, bigram_prob, bi_freq))\n",
        "print(random_corpus(10, trigram_prob, tri_freq))\n",
        "print(random_corpus(10, quadrigram_prob, quadri_freq))\n"
      ],
      "metadata": {
        "id": "javth5g1tLWO",
        "colab": {
          "base_uri": "https://localhost:8080/"
        },
        "outputId": "10ff0db7-4e6c-4a35-e2e6-6eca934d4cb5"
      },
      "execution_count": 67,
      "outputs": [
        {
          "output_type": "stream",
          "name": "stdout",
          "text": [
            "አላቸው፡፡በዚህ ሐይለስላሴ የመሠናበቻ እየነካካች።ሽማግሌው ብፈልገው አይኖቼን ለጉብኝትም ታያችሁ? አኳኋኗም ከውጫዊ\n",
            "መሆንም በዘመናዊ የአካል ደጅ የሚጠናውን የኛን ማተብማ በጠሰው?ዋሻ እንደጐህ ቀዶ እየሰፋ\n",
            "ማብዛቱ፣ ማስጠንቀቂያ አለመስማቱ፣ የተለመደ ነገር ነው፡፡ በጣም ገና፡፡ ኢትዮጵያ፤ በህብረቀለም ያሸበረቀና ውብ\n",
            "እንጂ፤ ደብዳቤም እንኳ አልፃፍንም ብለዋል ወ/ሮ ሳባ፡፡ ደብዳቤ ከመፃፍ ይልቅ ብዙ ሰው እንዲሰማ\n"
          ]
        }
      ]
    },
    {
      "cell_type": "markdown",
      "source": [
        "When \"n\" increases, the model generates more coherent and contextually fitting sentences."
      ],
      "metadata": {
        "id": "5NHVIvsG07zA"
      }
    },
    {
      "cell_type": "markdown",
      "source": [
        "2 Evaluate these Language Models Using Intrinsic Evaluation Method"
      ],
      "metadata": {
        "id": "NunND98x0mpi"
      }
    },
    {
      "cell_type": "markdown",
      "source": [
        "Intrinsic evaluation method is using prerplexity to evaluate a model. so here i compute the perplexity for each n-grams."
      ],
      "metadata": {
        "id": "1GYzGhEM2FY_"
      }
    },
    {
      "cell_type": "code",
      "source": [
        "corpus = [\"ምን መሰላችሁ? (አንባቢያን) ኢትዮጵያ\"]\n",
        "N = len(corpus)\n",
        "uni_perplexity = 1\n",
        "\n",
        "# Compute unigram perplexity\n",
        "for phrase in corpus:\n",
        "    phrase = phrase.split(\" \")\n",
        "    uni_probability = 1\n",
        "    for word in phrase:\n",
        "        uni_probability *= unigram_prob.get(word, 0)\n",
        "    uni_probability = max(uni_probability, 1e-10)\n",
        "    uni_perplexity *= 1 / uni_probability\n",
        "\n",
        "uni_perplexity = pow(uni_perplexity, 1/N)\n",
        "print(\"Unigram Perplexity: \", uni_perplexity)\n",
        "\n",
        "bi_perplexity = 1\n",
        "\n",
        "# Compute bigram perplexity\n",
        "for phrase in corpus:\n",
        "    phrase = phrase.split(\" \")\n",
        "    bi_probability = 1\n",
        "    left = 0\n",
        "    right = 2\n",
        "    while right <= len(phrase):\n",
        "        bi_probability *= bigram_prob.get(\" \".join(phrase[left:right]), 0)\n",
        "        right += 1\n",
        "        left += 1\n",
        "    bi_probability = max(bi_probability, 1e-10)\n",
        "    bi_perplexity *= 1 / bi_probability\n",
        "\n",
        "bi_perplexity = pow(bi_perplexity, 1/N)\n",
        "print(\"Bigram Perplexity: \", bi_perplexity)\n",
        "\n",
        "tri_perplexity = 1\n",
        "\n",
        "# Compute trigram perplexity\n",
        "for phrase in corpus:\n",
        "    phrase = phrase.split(\" \")\n",
        "    tri_probability = 1\n",
        "    left = 0\n",
        "    right = 3\n",
        "    while right <= len(phrase):\n",
        "        tri_probability *= trigram_prob.get(\" \".join(phrase[left:right]), 0)\n",
        "        right += 1\n",
        "        left += 1\n",
        "    tri_probability = max(tri_probability, 1e-10)\n",
        "    tri_perplexity *= 1 / tri_probability\n",
        "\n",
        "tri_perplexity = pow(tri_perplexity, 1/N)\n",
        "print(\"Trigram Perplexity: \", tri_perplexity)\n",
        "\n",
        "quadri_perplexity = 1\n",
        "\n",
        "# Compute quadrigram perplexity\n",
        "for phrase in corpus:\n",
        "    phrase = phrase.split(\" \")\n",
        "    quadri_probability = 1\n",
        "    left = 0\n",
        "    right = 4\n",
        "    while right <= len(phrase):\n",
        "        quadri_probability *= quadrigram_prob.get(\" \".join(phrase[left:right]), 0)\n",
        "        right += 1\n",
        "        left += 1\n",
        "    quadri_probability = max(quadri_probability, 1e-10)\n",
        "    quadri_perplexity *= 1 / quadri_probability\n",
        "\n",
        "quadri_perplexity = pow(quadri_perplexity, 1/N)\n",
        "print(\"Quadrigram Perplexity: \", quadri_perplexity)\n"
      ],
      "metadata": {
        "colab": {
          "base_uri": "https://localhost:8080/"
        },
        "id": "l60gEXZVjwem",
        "outputId": "dd258fd7-f1f2-4932-b7cb-659bf8085660"
      },
      "execution_count": 80,
      "outputs": [
        {
          "output_type": "stream",
          "name": "stdout",
          "text": [
            "Unigram Perplexity:  10000000000.0\n",
            "Bigram Perplexity:  18046.27397260274\n",
            "Trigram Perplexity:  73.0\n",
            "Quadrigram Perplexity:  1.0\n"
          ]
        }
      ]
    },
    {
      "cell_type": "markdown",
      "source": [
        "3.Evaluate these Language Models Using Extrinsic Evaluation Method"
      ],
      "metadata": {
        "id": "V12o0FPH0ql3"
      }
    },
    {
      "cell_type": "markdown",
      "source": [
        "Here i used the next word prediction as an extrinsic evaluation method."
      ],
      "metadata": {
        "id": "dgPuk4SY2acG"
      }
    },
    {
      "cell_type": "code",
      "source": [
        "def next_word(prefix, ngram_prob, n):\n",
        "    # Generate ngrams for the given prefix\n",
        "    prefix_ngrams = ngramsGenerator(prefix.split(\" \"), n)\n",
        "\n",
        "    # Collect possible next words based on the prefix\n",
        "    next_possible_words = []\n",
        "    for ngram in ngram_prob:\n",
        "        if ngram.split(\" \")[:n-1] == prefix_ngrams[-1].split(\" \")[-n+1:]:\n",
        "            next_possible_words.append(ngram)\n",
        "\n",
        "    # If no possible next words, return an empty string\n",
        "    if not next_possible_words:\n",
        "        return \"\"\n",
        "\n",
        "    # Choose the next word with the highest probability\n",
        "    chosen = max(next_possible_words, key=ngram_prob.get)\n",
        "\n",
        "    return chosen.split(\" \")[-1]\n",
        "\n",
        "\n",
        "def next_word_Prediction(prefix):\n",
        "    # Generate unigram ngrams for the given prefix\n",
        "    prefix_ngrams = ngramsGenerator(prefix.split(\" \"), 1)\n",
        "\n",
        "    # Choose the next word with the highest unigram probability\n",
        "    selected = max(unigram_prob.keys(), key=unigram_prob.get)\n",
        "\n",
        "    return selected\n",
        "\n",
        "\n",
        "# Example usage\n",
        "prefix = \"የአዲስ አበባ መንገድና ትራንስፖርት\"\n",
        "print(\"Quadrigram sentence prediction:\", prefix, next_word(prefix, quadrigram_prob, 4))\n"
      ],
      "metadata": {
        "colab": {
          "base_uri": "https://localhost:8080/"
        },
        "id": "R0vFK490k-RI",
        "outputId": "e5cd7031-edba-47df-a40a-0605d475a71a"
      },
      "execution_count": 83,
      "outputs": [
        {
          "output_type": "stream",
          "name": "stdout",
          "text": [
            "Quadrigram sentence prediction: የአዲስ አበባ መንገድና ትራንስፖርት ባለስልጣን\n"
          ]
        }
      ]
    }
  ]
}